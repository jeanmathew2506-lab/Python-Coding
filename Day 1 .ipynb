{
 "cells": [
  {
   "cell_type": "markdown",
   "id": "bd0810ef",
   "metadata": {
    "id": "bd0810ef"
   },
   "source": [
    "# Variables"
   ]
  },
  {
   "cell_type": "markdown",
   "id": "4d00f79d",
   "metadata": {
    "id": "4d00f79d"
   },
   "source": [
    "Variables are used to store and manipulate data. They act as containers that hold values, which can be of different types such as numbers, strings, lists, or objects. Here's an explanation of variables in Python with examples:\n",
    "\n",
    "**Variable Declaration and Assignment:**\n",
    "\n",
    "To declare and assign a value to a variable in Python, you simply write the variable name followed by an equals sign (=) and the value you want to assign. Here's an example:"
   ]
  },
  {
   "cell_type": "code",
   "execution_count": 3,
   "id": "80351f68",
   "metadata": {
    "executionInfo": {
     "elapsed": 372,
     "status": "ok",
     "timestamp": 1687174122070,
     "user": {
      "displayName": "Meritshot",
      "userId": "03409913955498058200"
     },
     "user_tz": -330
    },
    "id": "80351f68"
   },
   "outputs": [],
   "source": [
    "# Variable declaration and assignment\n",
    "a = 85\n",
    "b = 75\n",
    "c = 25"
   ]
  },
  {
   "cell_type": "code",
   "execution_count": 5,
   "id": "4hRoUXwvajoa",
   "metadata": {
    "colab": {
     "base_uri": "https://localhost:8080/"
    },
    "executionInfo": {
     "elapsed": 11,
     "status": "ok",
     "timestamp": 1687174165072,
     "user": {
      "displayName": "Meritshot",
      "userId": "03409913955498058200"
     },
     "user_tz": -330
    },
    "id": "4hRoUXwvajoa",
    "outputId": "c33835b1-10b2-4ad3-844c-857f015add2b"
   },
   "outputs": [
    {
     "name": "stdout",
     "output_type": "stream",
     "text": [
      "85\n",
      "75\n",
      "25\n"
     ]
    }
   ],
   "source": [
    "# Let's Print the Values of these Variables\n",
    "\n",
    "print(a)\n",
    "print(b)\n",
    "print(c)"
   ]
  },
  {
   "cell_type": "markdown",
   "id": "ce65c4c4",
   "metadata": {
    "id": "ce65c4c4"
   },
   "source": [
    "**Variable Naming Rules:**\n",
    "\n",
    "* A variable name can contain letters (a-z, A-Z), digits (0-9), and underscores (_). It must start with a letter or an underscore.\n",
    "* The Variable name cannot start with a Number.\n",
    "* A variable name can only contain alphanumeric characters and underscores.\n",
    "* Variables names are case sensitive.\n",
    "* It cannot be a reserved keyword in Python (e.g., if, for, while, etc.).\n",
    "* Avoid using special characters or spaces in variable names.\n",
    "\n",
    "\n"
   ]
  },
  {
   "cell_type": "code",
   "execution_count": 8,
   "id": "m0VLdj_zbnn3",
   "metadata": {
    "executionInfo": {
     "elapsed": 7,
     "status": "ok",
     "timestamp": 1687174463000,
     "user": {
      "displayName": "Meritshot",
      "userId": "03409913955498058200"
     },
     "user_tz": -330
    },
    "id": "m0VLdj_zbnn3"
   },
   "outputs": [],
   "source": [
    "#both of these variables will get accepted as both of them are following the rule.\n",
    "data = 2\n",
    "_data = 2"
   ]
  },
  {
   "cell_type": "code",
   "execution_count": 9,
   "id": "ROI0ZfLMb0Z8",
   "metadata": {
    "colab": {
     "base_uri": "https://localhost:8080/",
     "height": 130
    },
    "executionInfo": {
     "elapsed": 48,
     "status": "error",
     "timestamp": 1687174610990,
     "user": {
      "displayName": "Meritshot",
      "userId": "03409913955498058200"
     },
     "user_tz": -330
    },
    "id": "ROI0ZfLMb0Z8",
    "outputId": "48205321-5773-4292-a524-65fae9968fe1"
   },
   "outputs": [
    {
     "ename": "SyntaxError",
     "evalue": "ignored",
     "output_type": "error",
     "traceback": [
      "\u001b[0;36m  File \u001b[0;32m\"<ipython-input-9-5c08426754ed>\"\u001b[0;36m, line \u001b[0;32m3\u001b[0m\n\u001b[0;31m    4data = 9\u001b[0m\n\u001b[0m    ^\u001b[0m\n\u001b[0;31mSyntaxError\u001b[0m\u001b[0;31m:\u001b[0m invalid decimal literal\n"
     ]
    }
   ],
   "source": [
    "# 4data cannot be accepted as a variable, as the variable name starts with a number\n",
    "\n",
    "4data = 9"
   ]
  },
  {
   "cell_type": "code",
   "execution_count": 11,
   "id": "KivEuOy8cjWU",
   "metadata": {
    "colab": {
     "base_uri": "https://localhost:8080/",
     "height": 130
    },
    "executionInfo": {
     "elapsed": 24,
     "status": "error",
     "timestamp": 1687174701202,
     "user": {
      "displayName": "Meritshot",
      "userId": "03409913955498058200"
     },
     "user_tz": -330
    },
    "id": "KivEuOy8cjWU",
    "outputId": "c49f2758-12f5-4fd9-ed4d-9ed000c9368b"
   },
   "outputs": [
    {
     "ename": "SyntaxError",
     "evalue": "ignored",
     "output_type": "error",
     "traceback": [
      "\u001b[0;36m  File \u001b[0;32m\"<ipython-input-11-30406c75c70b>\"\u001b[0;36m, line \u001b[0;32m3\u001b[0m\n\u001b[0;31m    4% = 5\u001b[0m\n\u001b[0m       ^\u001b[0m\n\u001b[0;31mSyntaxError\u001b[0m\u001b[0;31m:\u001b[0m invalid syntax\n"
     ]
    }
   ],
   "source": [
    "# Variable names can only contain alphanumeric characters and underscores\n",
    "\n",
    "4% = 5"
   ]
  },
  {
   "cell_type": "code",
   "execution_count": 16,
   "id": "rMYm8T4Lcu0Z",
   "metadata": {
    "colab": {
     "base_uri": "https://localhost:8080/"
    },
    "executionInfo": {
     "elapsed": 364,
     "status": "ok",
     "timestamp": 1687174833310,
     "user": {
      "displayName": "Meritshot",
      "userId": "03409913955498058200"
     },
     "user_tz": -330
    },
    "id": "rMYm8T4Lcu0Z",
    "outputId": "cc89570c-9dc0-4188-cb49-d1070224b4e5"
   },
   "outputs": [
    {
     "name": "stdout",
     "output_type": "stream",
     "text": [
      "5\n",
      "10\n"
     ]
    }
   ],
   "source": [
    "# variable names are case sensitive, Here both data & DATA are different variable storing different values.\n",
    "\n",
    "data = 5\n",
    "DATA = 10\n",
    "\n",
    "print(data)\n",
    "print(DATA)"
   ]
  },
  {
   "cell_type": "markdown",
   "id": "e86830cb",
   "metadata": {
    "id": "e86830cb"
   },
   "source": [
    "# Data Types and Type Casting"
   ]
  },
  {
   "cell_type": "markdown",
   "id": "W2DEulEablfc",
   "metadata": {
    "id": "W2DEulEablfc"
   },
   "source": [
    "**Variable Types:**\n",
    "\n",
    "Variables in Python can hold values of different types:\n",
    "* Integer\n",
    "* Float\n",
    "* String\n"
   ]
  },
  {
   "cell_type": "code",
   "execution_count": 22,
   "id": "57dd2db9",
   "metadata": {
    "colab": {
     "base_uri": "https://localhost:8080/"
    },
    "executionInfo": {
     "elapsed": 11,
     "status": "ok",
     "timestamp": 1687175613982,
     "user": {
      "displayName": "Meritshot",
      "userId": "03409913955498058200"
     },
     "user_tz": -330
    },
    "id": "57dd2db9",
    "outputId": "515d7663-dc75-4bbf-d699-3e608bf0e6ae"
   },
   "outputs": [
    {
     "name": "stdout",
     "output_type": "stream",
     "text": [
      "4\n",
      "india\n",
      "3.5\n"
     ]
    }
   ],
   "source": [
    "# Lets try to assign to assign some variables with different data types\n",
    "\n",
    "x = 4\n",
    "y = 'india'\n",
    "z = 3.5\n",
    "\n",
    "print(x)\n",
    "print(y)\n",
    "print(z)"
   ]
  },
  {
   "cell_type": "code",
   "execution_count": 23,
   "id": "veAErZnZgHGm",
   "metadata": {
    "colab": {
     "base_uri": "https://localhost:8080/"
    },
    "executionInfo": {
     "elapsed": 5,
     "status": "ok",
     "timestamp": 1687175616862,
     "user": {
      "displayName": "Meritshot",
      "userId": "03409913955498058200"
     },
     "user_tz": -330
    },
    "id": "veAErZnZgHGm",
    "outputId": "6f26d9a7-60f2-4faf-928e-f14e360ee4de"
   },
   "outputs": [
    {
     "name": "stdout",
     "output_type": "stream",
     "text": [
      "<class 'int'>\n",
      "<class 'str'>\n",
      "<class 'float'>\n"
     ]
    }
   ],
   "source": [
    "print(type(x))\n",
    "print(type(y))\n",
    "print(type(z))"
   ]
  },
  {
   "cell_type": "markdown",
   "id": "OrRMD2bJVBOq",
   "metadata": {
    "id": "OrRMD2bJVBOq"
   },
   "source": [
    "# Type Casting\n",
    "\n",
    "Type casting in Python refers to the process of converting the data type of a variable or value from one type to another. Python provides built-in functions that allow you to perform type casting. The commonly used type casting functions in Python include:"
   ]
  },
  {
   "cell_type": "code",
   "execution_count": 4,
   "id": "2fb260e3",
   "metadata": {
    "colab": {
     "base_uri": "https://localhost:8080/"
    },
    "executionInfo": {
     "elapsed": 9,
     "status": "ok",
     "timestamp": 1687240021974,
     "user": {
      "displayName": "Meritshot",
      "userId": "03409913955498058200"
     },
     "user_tz": -330
    },
    "id": "2fb260e3",
    "outputId": "a44e672a-8729-446b-cd37-0ff7035ddffe"
   },
   "outputs": [
    {
     "name": "stdout",
     "output_type": "stream",
     "text": [
      "<class 'int'>\n"
     ]
    }
   ],
   "source": [
    "# Let's initialize a variable named x\n",
    "\n",
    "x = 4\n",
    "print(type(x))"
   ]
  },
  {
   "cell_type": "code",
   "execution_count": 5,
   "id": "97d0f623",
   "metadata": {
    "colab": {
     "base_uri": "https://localhost:8080/"
    },
    "executionInfo": {
     "elapsed": 4,
     "status": "ok",
     "timestamp": 1687240078255,
     "user": {
      "displayName": "Meritshot",
      "userId": "03409913955498058200"
     },
     "user_tz": -330
    },
    "id": "97d0f623",
    "outputId": "5ef2baf0-f593-4c7f-cc81-e13234a22145"
   },
   "outputs": [
    {
     "name": "stdout",
     "output_type": "stream",
     "text": [
      "<class 'str'>\n"
     ]
    }
   ],
   "source": [
    "#let's typecast the variable x into a string datatype\n",
    "\n",
    "x = str(x)\n",
    "print(type(x))"
   ]
  },
  {
   "cell_type": "markdown",
   "id": "0ee4f141",
   "metadata": {
    "id": "0ee4f141"
   },
   "source": [
    "# Scope of Variables"
   ]
  },
  {
   "cell_type": "markdown",
   "id": "bEnP7USpYMol",
   "metadata": {
    "id": "bEnP7USpYMol"
   },
   "source": [
    "## Local Variables\n",
    "\n",
    " * A local variable is a variable that is defined within the scope of a function or a block of code. Local variables are only accessible within the block or function where they are defined. They have a limited lifespan and exist only as long as the block or function is being executed.\n"
   ]
  },
  {
   "cell_type": "code",
   "execution_count": 14,
   "id": "-s2-jL0VYLrY",
   "metadata": {
    "colab": {
     "base_uri": "https://localhost:8080/",
     "height": 217
    },
    "executionInfo": {
     "elapsed": 479,
     "status": "error",
     "timestamp": 1687240756252,
     "user": {
      "displayName": "Meritshot",
      "userId": "03409913955498058200"
     },
     "user_tz": -330
    },
    "id": "-s2-jL0VYLrY",
    "outputId": "dbcb68ea-e449-4c31-c095-c3a01390cec8"
   },
   "outputs": [
    {
     "name": "stdout",
     "output_type": "stream",
     "text": [
      "10\n"
     ]
    },
    {
     "ename": "NameError",
     "evalue": "ignored",
     "output_type": "error",
     "traceback": [
      "\u001b[0;31m---------------------------------------------------------------------------\u001b[0m",
      "\u001b[0;31mNameError\u001b[0m                                 Traceback (most recent call last)",
      "\u001b[0;32m<ipython-input-14-3b1e03a0d96b>\u001b[0m in \u001b[0;36m<cell line: 8>\u001b[0;34m()\u001b[0m\n\u001b[1;32m      6\u001b[0m \u001b[0;34m\u001b[0m\u001b[0m\n\u001b[1;32m      7\u001b[0m \u001b[0;31m# Trying to access the local variable outside the function will result in an error\u001b[0m\u001b[0;34m\u001b[0m\u001b[0;34m\u001b[0m\u001b[0m\n\u001b[0;32m----> 8\u001b[0;31m \u001b[0mprint\u001b[0m\u001b[0;34m(\u001b[0m\u001b[0ma\u001b[0m\u001b[0;34m)\u001b[0m  \u001b[0;31m# Raises NameError: name 'x' is not defined\u001b[0m\u001b[0;34m\u001b[0m\u001b[0;34m\u001b[0m\u001b[0m\n\u001b[0m",
      "\u001b[0;31mNameError\u001b[0m: name 'a' is not defined"
     ]
    }
   ],
   "source": [
    "def my_function():\n",
    "    a = 10  # a is a local variable defined within the function\n",
    "    print(a)\n",
    "\n",
    "my_function()  # Output: 10\n",
    "\n",
    "# Trying to access the local variable outside the function will result in an error\n",
    "print(a)  # Raises NameError: name 'a' is not defined"
   ]
  },
  {
   "cell_type": "markdown",
   "id": "c5e4b96d",
   "metadata": {
    "id": "c5e4b96d"
   },
   "source": [
    "### Global Variables\n",
    "\n",
    "* Global Variables are Variables which are created Outside of the Function. But, They can accessed from anywhere.\n"
   ]
  },
  {
   "cell_type": "code",
   "execution_count": 9,
   "id": "efbf6029",
   "metadata": {
    "colab": {
     "base_uri": "https://localhost:8080/"
    },
    "executionInfo": {
     "elapsed": 525,
     "status": "ok",
     "timestamp": 1687240299090,
     "user": {
      "displayName": "Meritshot",
      "userId": "03409913955498058200"
     },
     "user_tz": -330
    },
    "id": "efbf6029",
    "outputId": "f4bf3e2e-8ade-4ea1-d4aa-8cea770ac1f6"
   },
   "outputs": [
    {
     "name": "stdout",
     "output_type": "stream",
     "text": [
      "27.63\n"
     ]
    }
   ],
   "source": [
    "# Example for Global Scope of Variables\n",
    "\n",
    "x = 27.63\n",
    "\n",
    "def function():\n",
    "    print(x)\n",
    "\n",
    "function()  # here, we are able to access variable from outside of the variable"
   ]
  },
  {
   "cell_type": "code",
   "execution_count": 10,
   "id": "7f2b161e",
   "metadata": {
    "colab": {
     "base_uri": "https://localhost:8080/"
    },
    "executionInfo": {
     "elapsed": 10,
     "status": "ok",
     "timestamp": 1687240299554,
     "user": {
      "displayName": "Meritshot",
      "userId": "03409913955498058200"
     },
     "user_tz": -330
    },
    "id": "7f2b161e",
    "outputId": "7c80974e-ab54-443c-e0df-06bf0f82f43e"
   },
   "outputs": [
    {
     "name": "stdout",
     "output_type": "stream",
     "text": [
      "78\n"
     ]
    }
   ],
   "source": [
    "x = 89564.23\n",
    "\n",
    "def function():\n",
    "    x = 78\n",
    "    print(x)\n",
    "\n",
    "function()  # here, we are able to access the local variable"
   ]
  },
  {
   "cell_type": "markdown",
   "id": "d06feb8c",
   "metadata": {
    "id": "d06feb8c"
   },
   "source": [
    "### The Global Keyword\n",
    "\n",
    "* Normally, when you create a variable inside a function, that variable is local, and can only be used inside that function.\n",
    "\n",
    "* To create a global variable inside a function, you can use the global keyword."
   ]
  },
  {
   "cell_type": "code",
   "execution_count": 11,
   "id": "3dabd4ce",
   "metadata": {
    "colab": {
     "base_uri": "https://localhost:8080/"
    },
    "executionInfo": {
     "elapsed": 7,
     "status": "ok",
     "timestamp": 1687240299555,
     "user": {
      "displayName": "Meritshot",
      "userId": "03409913955498058200"
     },
     "user_tz": -330
    },
    "id": "3dabd4ce",
    "outputId": "5896dba8-99c9-4863-a8d9-d1f0d1b1cb6c"
   },
   "outputs": [
    {
     "name": "stdout",
     "output_type": "stream",
     "text": [
      "Awesome\n",
      "Awesome\n"
     ]
    }
   ],
   "source": [
    "def function():\n",
    "    global x\n",
    "    x = \"Awesome\"\n",
    "    print(x)\n",
    "\n",
    "function()\n",
    "print(x)"
   ]
  },
  {
   "cell_type": "markdown",
   "id": "-TxQJDVwdTx-",
   "metadata": {
    "id": "-TxQJDVwdTx-"
   },
   "source": [
    "# Operators in Python\n",
    "\n",
    "* In Python, operators are special symbols or characters that are used to perform operations on operands (variables, values, or expressions). They allow you to perform mathematical, logical, comparison, assignment, and other operations in your code."
   ]
  },
  {
   "cell_type": "markdown",
   "id": "d78d8916",
   "metadata": {
    "id": "d78d8916"
   },
   "source": [
    "# Arithematic Operators\n",
    "Arithmetic operators are used in Python to perform basic mathematical calculations. They operate on numerical values and return a new value as a result."
   ]
  },
  {
   "cell_type": "markdown",
   "id": "82bb1ad1",
   "metadata": {
    "id": "82bb1ad1"
   },
   "source": [
    "## 1. Addition Operator\n",
    "Addition operator adds two values.\n",
    "### x+y"
   ]
  },
  {
   "cell_type": "code",
   "execution_count": 16,
   "id": "a1a89a88",
   "metadata": {
    "colab": {
     "base_uri": "https://localhost:8080/"
    },
    "executionInfo": {
     "elapsed": 468,
     "status": "ok",
     "timestamp": 1687241620795,
     "user": {
      "displayName": "Meritshot",
      "userId": "03409913955498058200"
     },
     "user_tz": -330
    },
    "id": "a1a89a88",
    "outputId": "f4562717-2df4-449a-9000-10f493bd38ca"
   },
   "outputs": [
    {
     "name": "stdout",
     "output_type": "stream",
     "text": [
      "13\n"
     ]
    }
   ],
   "source": [
    "# Adding two numbers\n",
    "\n",
    "x = 5\n",
    "y = 8\n",
    "\n",
    "z = x + y\n",
    "\n",
    "print(z)"
   ]
  },
  {
   "cell_type": "code",
   "execution_count": 18,
   "id": "57e82465",
   "metadata": {
    "colab": {
     "base_uri": "https://localhost:8080/"
    },
    "executionInfo": {
     "elapsed": 560,
     "status": "ok",
     "timestamp": 1687241642659,
     "user": {
      "displayName": "Meritshot",
      "userId": "03409913955498058200"
     },
     "user_tz": -330
    },
    "id": "57e82465",
    "outputId": "91adbf92-fdc3-4ed3-f103-826806c7881b"
   },
   "outputs": [
    {
     "name": "stdout",
     "output_type": "stream",
     "text": [
      "346\n"
     ]
    }
   ],
   "source": [
    "# Adding two numbers\n",
    "\n",
    "x = 100\n",
    "y = 246\n",
    "\n",
    "z = x + y\n",
    "\n",
    "print(z)"
   ]
  },
  {
   "cell_type": "markdown",
   "id": "7fDzy9qsi-bl",
   "metadata": {
    "id": "7fDzy9qsi-bl"
   },
   "source": [
    "## 2. Subtraction Operator\n",
    "\n",
    "Subtraction Operator subtracts two values.\n",
    "\n",
    "\n",
    "\n"
   ]
  },
  {
   "cell_type": "code",
   "execution_count": 28,
   "id": "yCqFDWsKjJxZ",
   "metadata": {
    "colab": {
     "base_uri": "https://localhost:8080/"
    },
    "executionInfo": {
     "elapsed": 631,
     "status": "ok",
     "timestamp": 1687243525960,
     "user": {
      "displayName": "Meritshot",
      "userId": "03409913955498058200"
     },
     "user_tz": -330
    },
    "id": "yCqFDWsKjJxZ",
    "outputId": "4955ce55-a812-4643-9ca3-e3051c4e4553"
   },
   "outputs": [
    {
     "name": "stdout",
     "output_type": "stream",
     "text": [
      "100\n"
     ]
    }
   ],
   "source": [
    "# Lets Subtract two Values\n",
    "\n",
    "x = 200\n",
    "y = 100\n",
    "\n",
    "z = x - y\n",
    "\n",
    "print(z)"
   ]
  },
  {
   "cell_type": "code",
   "execution_count": 29,
   "id": "DGN9Jaqfjozu",
   "metadata": {
    "colab": {
     "base_uri": "https://localhost:8080/"
    },
    "executionInfo": {
     "elapsed": 413,
     "status": "ok",
     "timestamp": 1687243651514,
     "user": {
      "displayName": "Meritshot",
      "userId": "03409913955498058200"
     },
     "user_tz": -330
    },
    "id": "DGN9Jaqfjozu",
    "outputId": "13937190-b93a-499e-ed77-458d6ac79e5e"
   },
   "outputs": [
    {
     "name": "stdout",
     "output_type": "stream",
     "text": [
      "-200\n"
     ]
    }
   ],
   "source": [
    "# Let's take one more example\n",
    "\n",
    "x = 100\n",
    "y = 300\n",
    "\n",
    "z = x - y\n",
    "\n",
    "print(z)"
   ]
  },
  {
   "cell_type": "markdown",
   "id": "9d29f0a3",
   "metadata": {
    "id": "9d29f0a3"
   },
   "source": [
    "## 3. Multiplication Operator\n",
    "Multiplication operator multiplies two values.\n",
    "### x*y"
   ]
  },
  {
   "cell_type": "code",
   "execution_count": 19,
   "id": "dbbe4e72",
   "metadata": {
    "colab": {
     "base_uri": "https://localhost:8080/"
    },
    "executionInfo": {
     "elapsed": 555,
     "status": "ok",
     "timestamp": 1687241682095,
     "user": {
      "displayName": "Meritshot",
      "userId": "03409913955498058200"
     },
     "user_tz": -330
    },
    "id": "dbbe4e72",
    "outputId": "4f6bfa8e-6cbc-4820-8c6c-b65b6b630ef2"
   },
   "outputs": [
    {
     "name": "stdout",
     "output_type": "stream",
     "text": [
      "1500\n"
     ]
    }
   ],
   "source": [
    "# multiplies two values\n",
    "\n",
    "x = 50\n",
    "y = 30\n",
    "\n",
    "z = x*y\n",
    "\n",
    "print(z)"
   ]
  },
  {
   "cell_type": "code",
   "execution_count": 20,
   "id": "d27f81f2",
   "metadata": {
    "colab": {
     "base_uri": "https://localhost:8080/"
    },
    "executionInfo": {
     "elapsed": 502,
     "status": "ok",
     "timestamp": 1687241714141,
     "user": {
      "displayName": "Meritshot",
      "userId": "03409913955498058200"
     },
     "user_tz": -330
    },
    "id": "d27f81f2",
    "outputId": "119974e1-fdee-4319-e8cc-fd4c35927b1c"
   },
   "outputs": [
    {
     "name": "stdout",
     "output_type": "stream",
     "text": [
      "1548\n"
     ]
    }
   ],
   "source": [
    "# Multiplication Example\n",
    "\n",
    "x = 387\n",
    "y = 4\n",
    "\n",
    "z = x*y\n",
    "\n",
    "print(z)"
   ]
  },
  {
   "cell_type": "markdown",
   "id": "29ac0a60",
   "metadata": {
    "id": "29ac0a60"
   },
   "source": [
    "## 4. Dividend Operator\n",
    "Dividend operator divides one operand by another.\n",
    "### x/y"
   ]
  },
  {
   "cell_type": "code",
   "execution_count": 1,
   "id": "4fe2f888",
   "metadata": {
    "colab": {
     "base_uri": "https://localhost:8080/"
    },
    "executionInfo": {
     "elapsed": 551,
     "status": "ok",
     "timestamp": 1687241742522,
     "user": {
      "displayName": "Meritshot",
      "userId": "03409913955498058200"
     },
     "user_tz": -330
    },
    "id": "4fe2f888",
    "outputId": "eb93debc-ec9a-4e49-a9f9-2ef46c6461c7"
   },
   "outputs": [
    {
     "name": "stdout",
     "output_type": "stream",
     "text": [
      "15.0\n"
     ]
    }
   ],
   "source": [
    "# let's take an example\n",
    "\n",
    "x = 45\n",
    "y = 3\n",
    "\n",
    "z = x/y\n",
    "\n",
    "print(z)"
   ]
  },
  {
   "cell_type": "code",
   "execution_count": 22,
   "id": "0a89d78e",
   "metadata": {
    "colab": {
     "base_uri": "https://localhost:8080/"
    },
    "executionInfo": {
     "elapsed": 438,
     "status": "ok",
     "timestamp": 1687241772371,
     "user": {
      "displayName": "Meritshot",
      "userId": "03409913955498058200"
     },
     "user_tz": -330
    },
    "id": "0a89d78e",
    "outputId": "7b7a4d8b-1c8d-49ce-8dd1-27fdffae6fee"
   },
   "outputs": [
    {
     "name": "stdout",
     "output_type": "stream",
     "text": [
      "13.642857142857142\n"
     ]
    }
   ],
   "source": [
    "# let's take one more example\n",
    "\n",
    "x = 764\n",
    "y = 56\n",
    "\n",
    "z = x/y\n",
    "\n",
    "print(z)"
   ]
  },
  {
   "cell_type": "markdown",
   "id": "4ektPT7BroE3",
   "metadata": {
    "id": "4ektPT7BroE3"
   },
   "source": [
    "## 5. Modulus Operator\n",
    "\n",
    " The Modulus Operators Returns the Remainder of the division between two operands/Values.\n",
    "\n",
    " x%y"
   ]
  },
  {
   "cell_type": "code",
   "execution_count": 3,
   "id": "7TzEwHjirz7c",
   "metadata": {
    "colab": {
     "base_uri": "https://localhost:8080/"
    },
    "executionInfo": {
     "elapsed": 523,
     "status": "ok",
     "timestamp": 1687248550804,
     "user": {
      "displayName": "Meritshot",
      "userId": "03409913955498058200"
     },
     "user_tz": -330
    },
    "id": "7TzEwHjirz7c",
    "outputId": "20e2f559-b67c-4021-de90-53b12d396564"
   },
   "outputs": [
    {
     "name": "stdout",
     "output_type": "stream",
     "text": [
      "2\n"
     ]
    }
   ],
   "source": [
    "# Let's take an example to understand the Modulus Operator\n",
    "\n",
    "x = 11\n",
    "y = 3\n",
    "\n",
    "z = x%y\n",
    "\n",
    "print(z)"
   ]
  },
  {
   "cell_type": "code",
   "execution_count": 41,
   "id": "H78rvR8i2qdH",
   "metadata": {
    "colab": {
     "base_uri": "https://localhost:8080/"
    },
    "executionInfo": {
     "elapsed": 688,
     "status": "ok",
     "timestamp": 1687248639855,
     "user": {
      "displayName": "Meritshot",
      "userId": "03409913955498058200"
     },
     "user_tz": -330
    },
    "id": "H78rvR8i2qdH",
    "outputId": "8838c813-5413-497e-8c86-91d54630d801"
   },
   "outputs": [
    {
     "name": "stdout",
     "output_type": "stream",
     "text": [
      "2\n"
     ]
    }
   ],
   "source": [
    "# Let's take one more example\n",
    "\n",
    "x = 10\n",
    "y = 4\n",
    "\n",
    "z = x%y\n",
    "\n",
    "print(z)"
   ]
  },
  {
   "cell_type": "markdown",
   "id": "a605cbc7",
   "metadata": {
    "id": "a605cbc7"
   },
   "source": [
    "## 6. Exponent Operator\n",
    "Exponent Operator raises the power of left operand to the right operand.\n",
    "### x**y"
   ]
  },
  {
   "cell_type": "code",
   "execution_count": 39,
   "id": "4f80aee1",
   "metadata": {
    "colab": {
     "base_uri": "https://localhost:8080/"
    },
    "executionInfo": {
     "elapsed": 401,
     "status": "ok",
     "timestamp": 1687248573107,
     "user": {
      "displayName": "Meritshot",
      "userId": "03409913955498058200"
     },
     "user_tz": -330
    },
    "id": "4f80aee1",
    "outputId": "14290e76-2de7-4496-d32f-b0397649449f"
   },
   "outputs": [
    {
     "name": "stdout",
     "output_type": "stream",
     "text": [
      "8\n"
     ]
    }
   ],
   "source": [
    "# Let's take an example for Exponent Operator\n",
    "\n",
    "x = 2\n",
    "y = 3\n",
    "\n",
    "z = x**y\n",
    "\n",
    "print(z)"
   ]
  },
  {
   "cell_type": "code",
   "execution_count": 40,
   "id": "DZbRzYM92iVQ",
   "metadata": {
    "colab": {
     "base_uri": "https://localhost:8080/"
    },
    "executionInfo": {
     "elapsed": 450,
     "status": "ok",
     "timestamp": 1687248608150,
     "user": {
      "displayName": "Meritshot",
      "userId": "03409913955498058200"
     },
     "user_tz": -330
    },
    "id": "DZbRzYM92iVQ",
    "outputId": "a7a905cb-06de-4786-8ed8-d12f19434500"
   },
   "outputs": [
    {
     "name": "stdout",
     "output_type": "stream",
     "text": [
      "16\n"
     ]
    }
   ],
   "source": [
    "# Let's take one more example\n",
    "\n",
    "x = 2\n",
    "y = 4\n",
    "\n",
    "z = x**y\n",
    "\n",
    "print(z)"
   ]
  },
  {
   "cell_type": "markdown",
   "id": "b6dfad6a",
   "metadata": {
    "id": "b6dfad6a"
   },
   "source": [
    "## 7. Floor Division Operator\n",
    "Floor division operator returns quotient rounded off to the nearest integer.\n",
    "### x//y"
   ]
  },
  {
   "cell_type": "code",
   "execution_count": 7,
   "id": "27de9b7c",
   "metadata": {
    "colab": {
     "base_uri": "https://localhost:8080/"
    },
    "executionInfo": {
     "elapsed": 497,
     "status": "ok",
     "timestamp": 1687249688443,
     "user": {
      "displayName": "Meritshot",
      "userId": "03409913955498058200"
     },
     "user_tz": -330
    },
    "id": "27de9b7c",
    "outputId": "4d4d8e04-c3ba-4061-8e6c-70185d2a165a"
   },
   "outputs": [
    {
     "name": "stdout",
     "output_type": "stream",
     "text": [
      "3\n"
     ]
    }
   ],
   "source": [
    "# Let's take an example for floor division operator\n",
    "\n",
    "x = 16\n",
    "y = 5\n",
    "\n",
    "z = x//y\n",
    "\n",
    "print(z)"
   ]
  },
  {
   "cell_type": "markdown",
   "id": "4a2db104",
   "metadata": {
    "id": "4a2db104"
   },
   "source": [
    "# Assignment Operators\n",
    "Assignment operators are used to assign a value to the variable."
   ]
  },
  {
   "cell_type": "markdown",
   "id": "facfd74e",
   "metadata": {
    "id": "facfd74e"
   },
   "source": [
    "## 1. Equals to (=) Operator\n",
    "Equals to (=) operator assigne the value of right hand operand to the left hand operand."
   ]
  },
  {
   "cell_type": "code",
   "execution_count": 27,
   "id": "c56d3926",
   "metadata": {
    "colab": {
     "base_uri": "https://localhost:8080/"
    },
    "executionInfo": {
     "elapsed": 903,
     "status": "ok",
     "timestamp": 1687243280838,
     "user": {
      "displayName": "Meritshot",
      "userId": "03409913955498058200"
     },
     "user_tz": -330
    },
    "id": "c56d3926",
    "outputId": "350cd8e1-54c7-4df7-efd7-f458579c2167"
   },
   "outputs": [
    {
     "name": "stdout",
     "output_type": "stream",
     "text": [
      "7\n",
      "3.65\n"
     ]
    }
   ],
   "source": [
    "# Let's take an Example\n",
    "\n",
    "x = 7\n",
    "y = 3.65\n",
    "\n",
    "print(x)\n",
    "print(y)"
   ]
  },
  {
   "cell_type": "markdown",
   "id": "5c4e2e50",
   "metadata": {
    "id": "5c4e2e50"
   },
   "source": [
    "## 2. Add Equal to (+=) Operator\n",
    "Add equal to (+=) Operator adds right hand operand to the left hand operand and assign the result to the left hand operand.\n",
    "###  x+=y       x=x+y"
   ]
  },
  {
   "cell_type": "code",
   "execution_count": 3,
   "id": "92fb805a",
   "metadata": {
    "colab": {
     "base_uri": "https://localhost:8080/"
    },
    "executionInfo": {
     "elapsed": 6,
     "status": "ok",
     "timestamp": 1687255153377,
     "user": {
      "displayName": "Meritshot",
      "userId": "03409913955498058200"
     },
     "user_tz": -330
    },
    "id": "92fb805a",
    "outputId": "c78aee6a-2976-4c08-e8cc-2dab2372068c"
   },
   "outputs": [
    {
     "name": "stdout",
     "output_type": "stream",
     "text": [
      "11 4\n"
     ]
    }
   ],
   "source": [
    "# Let's take an Example\n",
    "\n",
    "x = 7\n",
    "y = 4\n",
    "x+=y\n",
    "\n",
    "print(x, y)"
   ]
  },
  {
   "cell_type": "code",
   "execution_count": 8,
   "id": "SivnRgjcONbz",
   "metadata": {
    "colab": {
     "base_uri": "https://localhost:8080/"
    },
    "executionInfo": {
     "elapsed": 9,
     "status": "ok",
     "timestamp": 1687254810099,
     "user": {
      "displayName": "Meritshot",
      "userId": "03409913955498058200"
     },
     "user_tz": -330
    },
    "id": "SivnRgjcONbz",
    "outputId": "c2e220ca-f880-48b9-9bba-70b58e421b1d"
   },
   "outputs": [
    {
     "name": "stdout",
     "output_type": "stream",
     "text": [
      "15 5\n"
     ]
    }
   ],
   "source": [
    "# Let's take one more example\n",
    "\n",
    "x = 10\n",
    "x += 5\n",
    "\n",
    "print(x, y)"
   ]
  },
  {
   "cell_type": "markdown",
   "id": "ce791e4c",
   "metadata": {
    "id": "ce791e4c"
   },
   "source": [
    "## 3. Subtract Equal to (-=) Operator\n",
    "Subtract equal to (-=) operator subtracts right hand operand from the left hand operand and assign the result to the left hand operand.\n",
    "### x-=y  x=x-y"
   ]
  },
  {
   "cell_type": "code",
   "execution_count": 1,
   "id": "23a8b95b",
   "metadata": {
    "colab": {
     "base_uri": "https://localhost:8080/"
    },
    "executionInfo": {
     "elapsed": 8,
     "status": "ok",
     "timestamp": 1687254727706,
     "user": {
      "displayName": "Meritshot",
      "userId": "03409913955498058200"
     },
     "user_tz": -330
    },
    "id": "23a8b95b",
    "outputId": "695a4831-be8b-468a-d41e-f25646b6ed51"
   },
   "outputs": [
    {
     "data": {
      "text/plain": [
       "33"
      ]
     },
     "execution_count": 1,
     "metadata": {},
     "output_type": "execute_result"
    }
   ],
   "source": [
    "# Let's take an Example\n",
    "\n",
    "x = 45\n",
    "y = 12\n",
    "x-=y\n",
    "x"
   ]
  },
  {
   "cell_type": "markdown",
   "id": "efcba87c",
   "metadata": {
    "id": "efcba87c"
   },
   "source": [
    "## 4. Mutliply Equal to (*=) Operator\n",
    "Multiply equal to (*=) operator multiplies right hand operand by left hand operand and assign the result to the left hand operand.\n",
    "### x*=y x=x*y"
   ]
  },
  {
   "cell_type": "code",
   "execution_count": null,
   "id": "e1ec8caf",
   "metadata": {
    "id": "e1ec8caf",
    "outputId": "555f52fe-8a01-4624-ef22-fb73cba57350"
   },
   "outputs": [
    {
     "data": {
      "text/plain": [
       "92"
      ]
     },
     "execution_count": 15,
     "metadata": {},
     "output_type": "execute_result"
    }
   ],
   "source": [
    "# Let's take an Example\n",
    "\n",
    "x = 23\n",
    "y = 4\n",
    "x*=y\n",
    "x"
   ]
  },
  {
   "cell_type": "markdown",
   "id": "2022a4f4",
   "metadata": {
    "id": "2022a4f4"
   },
   "source": [
    "## 5. Divide Equal to (/=) Operator\n",
    "Divide equal to (/=) operator divides left operand by right operand and assign the result to left hand operand.\n",
    "### x/=y    x=x/y"
   ]
  },
  {
   "cell_type": "code",
   "execution_count": 4,
   "id": "accc49cd",
   "metadata": {
    "colab": {
     "base_uri": "https://localhost:8080/"
    },
    "executionInfo": {
     "elapsed": 8,
     "status": "ok",
     "timestamp": 1687256318624,
     "user": {
      "displayName": "Meritshot",
      "userId": "03409913955498058200"
     },
     "user_tz": -330
    },
    "id": "accc49cd",
    "outputId": "985ce752-a2d6-48ff-a6ff-f3fbae4a6795"
   },
   "outputs": [
    {
     "name": "stdout",
     "output_type": "stream",
     "text": [
      "7.0\n"
     ]
    }
   ],
   "source": [
    "# Let's take an Example\n",
    "\n",
    "x = 35\n",
    "y = 5\n",
    "\n",
    "x/=y\n",
    "\n",
    "print(x)"
   ]
  },
  {
   "cell_type": "markdown",
   "id": "58610f3e",
   "metadata": {
    "id": "58610f3e"
   },
   "source": [
    "\n",
    "# Comparison Operator\n",
    "Comparison operators are used to compare one value to another. The result of a comparison is a Boolean value, which can be either True or False."
   ]
  },
  {
   "cell_type": "markdown",
   "id": "7890d35f",
   "metadata": {
    "id": "7890d35f"
   },
   "source": [
    "## 1. Equal to (==) Operator\n",
    "Equal to (==) operator checks whether the value of the operands are equal. If yes it returns True."
   ]
  },
  {
   "cell_type": "code",
   "execution_count": null,
   "id": "a5f27cd0",
   "metadata": {
    "id": "a5f27cd0",
    "outputId": "2f53d437-affd-4f63-ed05-d1fe2005c6b3"
   },
   "outputs": [
    {
     "data": {
      "text/plain": [
       "True"
      ]
     },
     "execution_count": 41,
     "metadata": {},
     "output_type": "execute_result"
    }
   ],
   "source": [
    "# let's take an example\n",
    "\n",
    "2==2"
   ]
  },
  {
   "cell_type": "code",
   "execution_count": 9,
   "id": "74f06e9f",
   "metadata": {
    "id": "74f06e9f",
    "outputId": "0a13ed85-8b83-41e3-911c-d8ead09ce3b6"
   },
   "outputs": [
    {
     "data": {
      "text/plain": [
       "True"
      ]
     },
     "execution_count": 9,
     "metadata": {},
     "output_type": "execute_result"
    }
   ],
   "source": [
    "# let's take an example\n",
    "\n",
    "x = 7\n",
    "y = 7\n",
    "x==y"
   ]
  },
  {
   "cell_type": "markdown",
   "id": "79ff88a4",
   "metadata": {
    "id": "79ff88a4"
   },
   "source": [
    "## 2. Not Equal to (!=) Operator\n",
    "Not equal to (!=) operator checks If the values of the two operands are not equal, then the condition becomes true."
   ]
  },
  {
   "cell_type": "code",
   "execution_count": null,
   "id": "681fc401",
   "metadata": {
    "id": "681fc401",
    "outputId": "7bf47a51-5aea-4df3-fc5a-d81fe2bf7412"
   },
   "outputs": [
    {
     "data": {
      "text/plain": [
       "True"
      ]
     },
     "execution_count": 43,
     "metadata": {},
     "output_type": "execute_result"
    }
   ],
   "source": [
    "# let's take an example\n",
    "\n",
    "4!=7"
   ]
  },
  {
   "cell_type": "code",
   "execution_count": 10,
   "id": "a64e38ae",
   "metadata": {
    "id": "a64e38ae",
    "outputId": "219591bc-f0f2-4278-c1c3-a953eafe1876"
   },
   "outputs": [
    {
     "data": {
      "text/plain": [
       "True"
      ]
     },
     "execution_count": 10,
     "metadata": {},
     "output_type": "execute_result"
    }
   ],
   "source": [
    "# let's take an example\n",
    "\n",
    "x = 8\n",
    "y = 10\n",
    "x!=y"
   ]
  },
  {
   "cell_type": "markdown",
   "id": "1167cf14",
   "metadata": {
    "id": "1167cf14"
   },
   "source": [
    " ## 3. Greater than (>) Operator\n",
    "Greater than (>) operator checks If the value of the left operand is greater than the value of the right operand, then the condition becomes true."
   ]
  },
  {
   "cell_type": "code",
   "execution_count": 11,
   "id": "f21628df",
   "metadata": {
    "id": "f21628df",
    "outputId": "3d577dda-bca6-44da-88c3-4275fd2a91f8"
   },
   "outputs": [
    {
     "data": {
      "text/plain": [
       "False"
      ]
     },
     "execution_count": 11,
     "metadata": {},
     "output_type": "execute_result"
    }
   ],
   "source": [
    "# let's take an example\n",
    "\n",
    "5>9"
   ]
  },
  {
   "cell_type": "code",
   "execution_count": null,
   "id": "447aa411",
   "metadata": {
    "id": "447aa411",
    "outputId": "eb248855-4b8c-49ba-faeb-c88cee6aa3cc"
   },
   "outputs": [
    {
     "data": {
      "text/plain": [
       "True"
      ]
     },
     "execution_count": 46,
     "metadata": {},
     "output_type": "execute_result"
    }
   ],
   "source": [
    "# let's take an example\n",
    "\n",
    "x = 34\n",
    "y = 12\n",
    "x>y"
   ]
  },
  {
   "cell_type": "markdown",
   "id": "7280fa6e",
   "metadata": {
    "id": "7280fa6e"
   },
   "source": [
    "## 4. Less than (<) Operator\n",
    "Less than (<) operator checks If the value of the left operand is less than the value of the right operand, then the condition becomes true."
   ]
  },
  {
   "cell_type": "code",
   "execution_count": null,
   "id": "4833cc90",
   "metadata": {
    "id": "4833cc90",
    "outputId": "13c8fd98-dc50-49a6-b1cb-71bfcf8afa4a"
   },
   "outputs": [
    {
     "data": {
      "text/plain": [
       "True"
      ]
     },
     "execution_count": 47,
     "metadata": {},
     "output_type": "execute_result"
    }
   ],
   "source": [
    "# let's take an example\n",
    "\n",
    "6<10"
   ]
  },
  {
   "cell_type": "code",
   "execution_count": null,
   "id": "9847508d",
   "metadata": {
    "id": "9847508d",
    "outputId": "b87c8928-318b-483a-b7ac-3bf7eb169a25"
   },
   "outputs": [
    {
     "data": {
      "text/plain": [
       "False"
      ]
     },
     "execution_count": 48,
     "metadata": {},
     "output_type": "execute_result"
    }
   ],
   "source": [
    "# let's take an example\n",
    "\n",
    "x = 87\n",
    "y = 10\n",
    "\n",
    "x<y"
   ]
  },
  {
   "cell_type": "markdown",
   "id": "7691cef6",
   "metadata": {
    "id": "7691cef6"
   },
   "source": [
    "## 5. Greater than equal to (>=) Operator\n",
    "Greater than equal to (>=) operator checks If the value of the left operand is greater than or equal to the value of the right operand, then the condition becomes true."
   ]
  },
  {
   "cell_type": "code",
   "execution_count": null,
   "id": "31174aae",
   "metadata": {
    "id": "31174aae",
    "outputId": "3bf7eeed-a585-4581-ad03-9983b4e3e085"
   },
   "outputs": [
    {
     "data": {
      "text/plain": [
       "False"
      ]
     },
     "execution_count": 49,
     "metadata": {},
     "output_type": "execute_result"
    }
   ],
   "source": [
    "# let's take an example\n",
    "\n",
    "4>=5"
   ]
  },
  {
   "cell_type": "code",
   "execution_count": null,
   "id": "8111a271",
   "metadata": {
    "id": "8111a271",
    "outputId": "8acb1661-572d-41bd-f257-4d268338bdf6"
   },
   "outputs": [
    {
     "data": {
      "text/plain": [
       "True"
      ]
     },
     "execution_count": 50,
     "metadata": {},
     "output_type": "execute_result"
    }
   ],
   "source": [
    "# let's take an example\n",
    "\n",
    "x = 76\n",
    "y = 36\n",
    "x>=y"
   ]
  },
  {
   "cell_type": "markdown",
   "id": "1193e9e7",
   "metadata": {
    "id": "1193e9e7"
   },
   "source": [
    "## 6. Less than equal to (<=) Operator\n",
    "Less than equal to (<=) operator  checks If the value of the left operand is less than or equal to the value of the right operand, then the condition becomes true."
   ]
  },
  {
   "cell_type": "code",
   "execution_count": null,
   "id": "35c210f1",
   "metadata": {
    "id": "35c210f1",
    "outputId": "85399536-e793-4529-de38-5669a6632292"
   },
   "outputs": [
    {
     "data": {
      "text/plain": [
       "True"
      ]
     },
     "execution_count": 51,
     "metadata": {},
     "output_type": "execute_result"
    }
   ],
   "source": [
    "# let's take an example\n",
    "\n",
    "12<=13"
   ]
  },
  {
   "cell_type": "code",
   "execution_count": null,
   "id": "47d3fa7c",
   "metadata": {
    "id": "47d3fa7c",
    "outputId": "247674cf-5c6d-4fff-d770-0611179bbbd0"
   },
   "outputs": [
    {
     "data": {
      "text/plain": [
       "False"
      ]
     },
     "execution_count": 52,
     "metadata": {},
     "output_type": "execute_result"
    }
   ],
   "source": [
    "# let's take an example\n",
    "\n",
    "x = 87\n",
    "y = 76\n",
    "x<=y"
   ]
  },
  {
   "cell_type": "markdown",
   "id": "d82aab90",
   "metadata": {
    "id": "d82aab90"
   },
   "source": [
    "# Logical Operator\n",
    "Logical operators are used to combine conditional statements."
   ]
  },
  {
   "cell_type": "markdown",
   "id": "5e83ff92",
   "metadata": {
    "id": "5e83ff92"
   },
   "source": [
    "## 1. AND Operator\n",
    "And operator Returns True if both statements are true."
   ]
  },
  {
   "cell_type": "code",
   "execution_count": 5,
   "id": "c4c2ac4c",
   "metadata": {
    "colab": {
     "base_uri": "https://localhost:8080/"
    },
    "executionInfo": {
     "elapsed": 550,
     "status": "ok",
     "timestamp": 1687268159613,
     "user": {
      "displayName": "Meritshot",
      "userId": "03409913955498058200"
     },
     "user_tz": -330
    },
    "id": "c4c2ac4c",
    "outputId": "755355f8-ce74-46f7-96ca-f2931de6d275"
   },
   "outputs": [
    {
     "data": {
      "text/plain": [
       "True"
      ]
     },
     "execution_count": 5,
     "metadata": {},
     "output_type": "execute_result"
    }
   ],
   "source": [
    "# let's take an example\n",
    "\n",
    "x = 6\n",
    "x < 10 and x > 1"
   ]
  },
  {
   "cell_type": "markdown",
   "id": "0578c273",
   "metadata": {
    "id": "0578c273"
   },
   "source": [
    "## 2. OR Operator\n",
    "OR operator Returns True if one of the statements is true."
   ]
  },
  {
   "cell_type": "code",
   "execution_count": 6,
   "id": "12dd4b24",
   "metadata": {
    "colab": {
     "base_uri": "https://localhost:8080/"
    },
    "executionInfo": {
     "elapsed": 3,
     "status": "ok",
     "timestamp": 1687268160369,
     "user": {
      "displayName": "Meritshot",
      "userId": "03409913955498058200"
     },
     "user_tz": -330
    },
    "id": "12dd4b24",
    "outputId": "415de717-0db7-40de-fdb6-0da45baa5561"
   },
   "outputs": [
    {
     "data": {
      "text/plain": [
       "True"
      ]
     },
     "execution_count": 6,
     "metadata": {},
     "output_type": "execute_result"
    }
   ],
   "source": [
    "# let's take an example\n",
    "\n",
    "x = 8\n",
    "x<10 or x>12"
   ]
  },
  {
   "cell_type": "markdown",
   "id": "ce2786f7",
   "metadata": {
    "id": "ce2786f7"
   },
   "source": [
    "## 3. NOT Operator\n",
    "NOT operator Reverse the logical state of the operand."
   ]
  },
  {
   "cell_type": "code",
   "execution_count": null,
   "id": "15e99cdb",
   "metadata": {
    "id": "15e99cdb",
    "outputId": "56be2ed0-b5c9-4443-bddd-261f5c1d1ece"
   },
   "outputs": [
    {
     "data": {
      "text/plain": [
       "False"
      ]
     },
     "execution_count": 56,
     "metadata": {},
     "output_type": "execute_result"
    }
   ],
   "source": [
    "# let's take an example\n",
    "\n",
    "a = True\n",
    "not a"
   ]
  }
 ],
 "metadata": {
  "colab": {
   "provenance": []
  },
  "kernelspec": {
   "display_name": "Python 3",
   "language": "python",
   "name": "python3"
  },
  "language_info": {
   "codemirror_mode": {
    "name": "ipython",
    "version": 3
   },
   "file_extension": ".py",
   "mimetype": "text/x-python",
   "name": "python",
   "nbconvert_exporter": "python",
   "pygments_lexer": "ipython3",
   "version": "3.13.5"
  }
 },
 "nbformat": 4,
 "nbformat_minor": 5
}
