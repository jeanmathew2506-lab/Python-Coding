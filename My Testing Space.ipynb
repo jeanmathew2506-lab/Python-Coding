{
 "cells": [
  {
   "cell_type": "code",
   "execution_count": 5,
   "id": "cd698c54",
   "metadata": {},
   "outputs": [
    {
     "name": "stdout",
     "output_type": "stream",
     "text": [
      "11\n"
     ]
    }
   ],
   "source": [
    "print(len(input(\"Enter the character\")))"
   ]
  },
  {
   "cell_type": "code",
   "execution_count": 6,
   "id": "15a3bb4e",
   "metadata": {},
   "outputs": [
    {
     "name": "stdout",
     "output_type": "stream",
     "text": [
      "print details Bangalore Nedukundam\n"
     ]
    }
   ],
   "source": [
    "city=input(\"Enter city name\")\n",
    "village=input(\"Enter village name\")\n",
    "print(\"print details\",city,village)\n",
    "\n"
   ]
  },
  {
   "cell_type": "code",
   "execution_count": 7,
   "id": "1bd0ce23",
   "metadata": {},
   "outputs": [
    {
     "name": "stdout",
     "output_type": "stream",
     "text": [
      "my age is 39\n"
     ]
    }
   ],
   "source": [
    "print(\"my age is\", input(\"Enter age please\"))"
   ]
  },
  {
   "cell_type": "code",
   "execution_count": 8,
   "id": "a786bbe7",
   "metadata": {},
   "outputs": [
    {
     "name": "stdout",
     "output_type": "stream",
     "text": [
      "103\n"
     ]
    }
   ],
   "source": [
    "print(1+102)"
   ]
  },
  {
   "cell_type": "code",
   "execution_count": 1,
   "id": "294f411f",
   "metadata": {},
   "outputs": [
    {
     "name": "stdout",
     "output_type": "stream",
     "text": [
      "69.1\n"
     ]
    }
   ],
   "source": [
    "print(23.5+ 45.6)"
   ]
  },
  {
   "cell_type": "code",
   "execution_count": 2,
   "id": "015b8532",
   "metadata": {},
   "outputs": [
    {
     "name": "stdout",
     "output_type": "stream",
     "text": [
      "True\n"
     ]
    }
   ],
   "source": [
    "print(True)"
   ]
  },
  {
   "cell_type": "code",
   "execution_count": 3,
   "id": "86b2a24b",
   "metadata": {},
   "outputs": [
    {
     "name": "stdout",
     "output_type": "stream",
     "text": [
      "1233452343255234345\n"
     ]
    }
   ],
   "source": [
    "print(123_345_2343255_234345)"
   ]
  },
  {
   "cell_type": "code",
   "execution_count": 10,
   "id": "f74f3772",
   "metadata": {},
   "outputs": [
    {
     "name": "stdout",
     "output_type": "stream",
     "text": [
      "Your BMI is 172 103.2 1.6666666666666665\n"
     ]
    }
   ],
   "source": [
    "height=input(\"Enter your height in cm\")\n",
    "weight=input(\"Enter your weight in kg\")\n",
    "result=float(height)/float(weight)\n",
    "print(f\"Your BMI is {height} {weight} {result}\")"
   ]
  },
  {
   "cell_type": "code",
   "execution_count": 15,
   "id": "8efca918",
   "metadata": {},
   "outputs": [
    {
     "name": "stdout",
     "output_type": "stream",
     "text": [
      "27\n"
     ]
    }
   ],
   "source": [
    "print(3**3)"
   ]
  },
  {
   "cell_type": "code",
   "execution_count": null,
   "id": "cbe2c4b2",
   "metadata": {},
   "outputs": [
    {
     "name": "stdout",
     "output_type": "stream",
     "text": [
      "50.909090909090914\n"
     ]
    }
   ],
   "source": [
    "height = 1.65\n",
    "weight = 84\n",
    "bmi = weight/height\n",
    "#print(bmi)\n",
    "print(int(bmi))\n",
    "#print(round(bmi, 2))"
   ]
  },
  {
   "cell_type": "code",
   "execution_count": 22,
   "id": "85fe10cb",
   "metadata": {},
   "outputs": [
    {
     "data": {
      "text/plain": [
       "bool"
      ]
     },
     "execution_count": 22,
     "metadata": {},
     "output_type": "execute_result"
    }
   ],
   "source": [
    "type(True)"
   ]
  },
  {
   "cell_type": "code",
   "execution_count": 39,
   "id": "f92ae845",
   "metadata": {},
   "outputs": [
    {
     "name": "stdout",
     "output_type": "stream",
     "text": [
      "25\n",
      "You are eligible to vote\n",
      "You can ride the mini roller coaster\n"
     ]
    }
   ],
   "source": [
    "\n",
    "age=(int(input(\"Please enter your age\")))\n",
    "print(age)\n",
    "#if conditions to check the conditions\n",
    "if age>=18:\n",
    "    print(\"You are eligible to vote\")\n",
    "    height = int(input(\"Enter your height in cm?\"))\n",
    "    if height >=110:\n",
    "        print(\"You can ride the roller coaster\")\n",
    "    elif height >= 80:\n",
    "        print(\"You can ride the mini roller coaster\")\n",
    "    else:\n",
    "        print(\"You are not tall enough to ride any roller coaster\") \n",
    "else:\n",
    "    print(\"You are not eligible to vote\")\n",
    "\n",
    "\n"
   ]
  },
  {
   "cell_type": "code",
   "execution_count": null,
   "id": "0cd807e3",
   "metadata": {},
   "outputs": [
    {
     "name": "stdout",
     "output_type": "stream",
     "text": [
      "Welcome to the roller coaster\n",
      " You can ride the roller coaster\n"
     ]
    }
   ],
   "source": [
    "\"\"\"\n",
    "# conditional operators (if else)\n",
    "print(\"Welcome to the roller coaster\")\n",
    "height = int(input(\"Enter the height in cm?\"))\n",
    "if height >= 120:\n",
    "    print(\" You can ride the roller coaster\")\n",
    "else:\n",
    "    print(\"Sorry you cant\")\n",
    "    \"\"\""
   ]
  },
  {
   "cell_type": "code",
   "execution_count": 51,
   "id": "c16bc086",
   "metadata": {},
   "outputs": [
    {
     "name": "stdout",
     "output_type": "stream",
     "text": [
      "['Andhra Pradesh', 'Telangana'] Amaravati\n"
     ]
    }
   ],
   "source": [
    "states=[\"Andhra Pradesh\", \"Telangana\", \"Tamil Nadu\", \"Kerala\", \"Karnataka\"]\n",
    "capitals=[\"Amaravati\", \"Hyderabad\", \"Chennai\", \"Thiruvananthapuram\", \"Bengaluru\"]\n",
    "#cars=[\"innova\",\"dzire\"]\n",
    "print(states[:2],capitals[0])"
   ]
  },
  {
   "cell_type": "code",
   "execution_count": 53,
   "id": "21654bd9",
   "metadata": {},
   "outputs": [
    {
     "name": "stdout",
     "output_type": "stream",
     "text": [
      "['Andhra Pradesh', 'Telangana', 'Tamil Nadu', 'Kerala', 'Karnataka', 'Manipur', 'Manipur'] ['Amaravati', 'Hyderabad', 'Chennai', 'Thiruvananthapuram', 'Bengaluru', 'Bhopal', 'Bhopal']\n"
     ]
    }
   ],
   "source": [
    "states.append(\"Manipur\")\n",
    "capitals.append(\"Bhopal\")\n",
    "print(states,capitals)"
   ]
  },
  {
   "cell_type": "code",
   "execution_count": 54,
   "id": "c55ca281",
   "metadata": {},
   "outputs": [
    {
     "name": "stdout",
     "output_type": "stream",
     "text": [
      "['Andhra Pradesh', 'Jammu', 'Telangana', 'Tamil Nadu', 'Kerala', 'Karnataka', 'Manipur', 'Manipur']\n",
      "['Amaravati', 'Srinagar', 'Hyderabad', 'Chennai', 'Thiruvananthapuram', 'Bengaluru', 'Bhopal', 'Bhopal']\n"
     ]
    }
   ],
   "source": [
    "states.insert(1,\"Jammu\")\n",
    "capitals.insert(1,\"Srinagar\")\n",
    "print(states)\n",
    "print(capitals)"
   ]
  },
  {
   "cell_type": "code",
   "execution_count": 69,
   "id": "b14206d4",
   "metadata": {},
   "outputs": [
    {
     "name": "stdout",
     "output_type": "stream",
     "text": [
      "['Amaravati', 'Chennai', 'Thiruvananthapuram']\n"
     ]
    }
   ],
   "source": [
    "capitals.remove(\"Bhopal\")\n",
    "print(capitals)\n"
   ]
  },
  {
   "cell_type": "code",
   "execution_count": 76,
   "id": "ce07fea1",
   "metadata": {},
   "outputs": [
    {
     "name": "stdout",
     "output_type": "stream",
     "text": [
      "['Amaravati', 'Chennai', 'Thiruvananthapuram']\n"
     ]
    }
   ],
   "source": [
    "capitals.sort(reverse=False)\n",
    "print(capitals)"
   ]
  },
  {
   "cell_type": "code",
   "execution_count": 79,
   "id": "d255e0f2",
   "metadata": {},
   "outputs": [
    {
     "name": "stdout",
     "output_type": "stream",
     "text": [
      "Banana\n"
     ]
    }
   ],
   "source": [
    "fruits=(\"Banana\",\"apple\",'Pineapple')\n",
    "print(fruits[0])"
   ]
  },
  {
   "cell_type": "code",
   "execution_count": 80,
   "id": "7113b539",
   "metadata": {},
   "outputs": [
    {
     "data": {
      "text/plain": [
       "tuple"
      ]
     },
     "execution_count": 80,
     "metadata": {},
     "output_type": "execute_result"
    }
   ],
   "source": [
    "type(fruits)"
   ]
  },
  {
   "cell_type": "code",
   "execution_count": 84,
   "id": "93067618",
   "metadata": {},
   "outputs": [
    {
     "name": "stdout",
     "output_type": "stream",
     "text": [
      "e\n"
     ]
    }
   ],
   "source": [
    "print(capitals[1][2])"
   ]
  },
  {
   "cell_type": "code",
   "execution_count": 1,
   "id": "6a83faaa",
   "metadata": {},
   "outputs": [],
   "source": [
    "list1=[1,2,3,4,5,1,2,3,4,5]\n",
    "list2=(6,7,8,9,10,6,7,8,9,10)\n",
    "list3={1,2,3,4,5,1,2,3,4,5}"
   ]
  },
  {
   "cell_type": "code",
   "execution_count": 13,
   "id": "8ae5fa1f",
   "metadata": {},
   "outputs": [
    {
     "name": "stdout",
     "output_type": "stream",
     "text": [
      "{4, 5, 6}\n"
     ]
    }
   ],
   "source": [
    "num1={1,2,3}\n",
    "num2={4,5,6}\n",
    "print(num2-num1)\n"
   ]
  },
  {
   "cell_type": "code",
   "execution_count": 16,
   "id": "f4b58978",
   "metadata": {},
   "outputs": [
    {
     "data": {
      "text/plain": [
       "{'Brand': 'Maruti', 'Model': 'Swift', 'Year': 2020, 'Color': 'Red'}"
      ]
     },
     "execution_count": 16,
     "metadata": {},
     "output_type": "execute_result"
    }
   ],
   "source": [
    "mycar={'Brand':'Maruti', \n",
    "       'Model':'Swift',\n",
    "        'Year':2020,\n",
    "         'Color':'Red'}\n",
    "mycar\n"
   ]
  },
  {
   "cell_type": "code",
   "execution_count": 19,
   "id": "5c3462e7",
   "metadata": {},
   "outputs": [
    {
     "name": "stdout",
     "output_type": "stream",
     "text": [
      "Toyota\n"
     ]
    }
   ],
   "source": [
    "cars={\"A\":\"Toyota\", \"B\":\"Honda\", \"C\":\"Ford\"}\n",
    "print(cars[\"A\"])"
   ]
  },
  {
   "cell_type": "code",
   "execution_count": 25,
   "id": "4d80a64c",
   "metadata": {},
   "outputs": [],
   "source": [
    "cars_collection={\"cars1\":{\"Brand\":\"Toyota\",\"Model\": \"Camry\", \"Year\": 2021, \"Color\": \"Blue\"},\n",
    "                \"cars2\":{\"Brand\":\"Honda\",\"Model\": \"Civic\", \"Year\": 2020, \"Color\": \"Black\"},\n",
    "                \"cars3\":{\"Brand\":\"Ford\",\"Model\": \"Focus\", \"Year\": 2019, \"Color\": \"White\"}}\n"
   ]
  },
  {
   "cell_type": "code",
   "execution_count": 27,
   "id": "0a1b0761",
   "metadata": {},
   "outputs": [
    {
     "data": {
      "text/plain": [
       "{'cars1': {'Brand': 'Toyota', 'Model': 'Camry', 'Year': 2021, 'Color': 'Blue'},\n",
       " 'cars2': {'Brand': 'Honda', 'Model': 'Civic', 'Year': 2020, 'Color': 'Black'},\n",
       " 'cars3': {'Brand': 'Ford', 'Model': 'Focus', 'Year': 2019, 'Color': 'White'}}"
      ]
     },
     "execution_count": 27,
     "metadata": {},
     "output_type": "execute_result"
    }
   ],
   "source": [
    "cars_collection"
   ]
  },
  {
   "cell_type": "code",
   "execution_count": 28,
   "id": "c51f2946",
   "metadata": {},
   "outputs": [
    {
     "name": "stdout",
     "output_type": "stream",
     "text": [
      "2020\n"
     ]
    }
   ],
   "source": [
    "print(cars_collection[\"cars2\"][\"Year\"])"
   ]
  },
  {
   "cell_type": "code",
   "execution_count": 29,
   "id": "ed0df927",
   "metadata": {},
   "outputs": [
    {
     "data": {
      "text/plain": [
       "{'Brand': 'Ford', 'Model': 'Focus', 'Year': 2019, 'Color': 'White'}"
      ]
     },
     "execution_count": 29,
     "metadata": {},
     "output_type": "execute_result"
    }
   ],
   "source": [
    "cars_collection.pop(\"cars3\")"
   ]
  },
  {
   "cell_type": "code",
   "execution_count": 30,
   "id": "cf525bd1",
   "metadata": {},
   "outputs": [
    {
     "data": {
      "text/plain": [
       "{'cars1': {'Brand': 'Toyota', 'Model': 'Camry', 'Year': 2021, 'Color': 'Blue'},\n",
       " 'cars2': {'Brand': 'Honda', 'Model': 'Civic', 'Year': 2020, 'Color': 'Black'}}"
      ]
     },
     "execution_count": 30,
     "metadata": {},
     "output_type": "execute_result"
    }
   ],
   "source": [
    "cars_collection"
   ]
  },
  {
   "cell_type": "markdown",
   "id": "29fe17dc",
   "metadata": {},
   "source": [
    "stack using deque"
   ]
  },
  {
   "cell_type": "code",
   "execution_count": 34,
   "id": "478e177d",
   "metadata": {},
   "outputs": [
    {
     "name": "stdout",
     "output_type": "stream",
     "text": [
      "deque([])\n"
     ]
    }
   ],
   "source": [
    "from collections import deque\n",
    "number=deque()\n",
    "print(number)\n"
   ]
  },
  {
   "cell_type": "code",
   "execution_count": 35,
   "id": "795d778c",
   "metadata": {},
   "outputs": [
    {
     "name": "stdout",
     "output_type": "stream",
     "text": [
      "deque([23, 45, 67])\n"
     ]
    }
   ],
   "source": [
    "number.append(23)\n",
    "number.append(45)\n",
    "number.append(67)\n",
    "print(number)   "
   ]
  },
  {
   "cell_type": "code",
   "execution_count": 1,
   "id": "2397b654",
   "metadata": {},
   "outputs": [
    {
     "name": "stdout",
     "output_type": "stream",
     "text": [
      "[1, 3, 5, 7, 11, 2, 13, 17, 21, 23]\n"
     ]
    }
   ],
   "source": [
    "##Question1\n",
    "prime_number1=[1,3,5,7,11]\n",
    "prime_number2=[2,13,17,21,23]\n",
    "print(prime_number1 + prime_number2)\n"
   ]
  },
  {
   "cell_type": "code",
   "execution_count": null,
   "id": "75b16b91",
   "metadata": {},
   "outputs": [
    {
     "name": "stdout",
     "output_type": "stream",
     "text": [
      "{1, 2, 3, 4, 5, 7, 8, 9, 10} {5}\n"
     ]
    }
   ],
   "source": [
    "set_num1={1,2,3,4,5}\n",
    "set_num3={5,7,8,9,10}\n",
    "union=set_num1.union(set_num3)\n",
    "intersec=set_num1.intersection(set_num3)\n",
    "\n",
    "print(union, intersec)"
   ]
  },
  {
   "cell_type": "code",
   "execution_count": 8,
   "id": "a419a9f5",
   "metadata": {},
   "outputs": [
    {
     "name": "stdout",
     "output_type": "stream",
     "text": [
      "['Kumarakom', 'Alleppey', 'Munnar']\n"
     ]
    }
   ],
   "source": [
    "book={ \"title\": \"Alchemist\",\n",
    "         \"author\": \"Paulo Coelho\",\n",
    "         \"year\": 1988,\n",
    "         \"genre\": \"Fiction\"    \n",
    "\n",
    "}\n",
    "kerala={\"capital\":\"Trivandrum\",\n",
    "        \"fin_captal\": \"Kochi\",\n",
    "        \"places\":[\"Kumarakom\",\"Alleppey\",\"Munnar\"]\n",
    "}\n",
    "print(kerala[\"places\"])"
   ]
  },
  {
   "cell_type": "code",
   "execution_count": 22,
   "id": "28079a1c",
   "metadata": {},
   "outputs": [
    {
     "name": "stdout",
     "output_type": "stream",
     "text": [
      "Mohan C\n"
     ]
    }
   ],
   "source": [
    "studentA={\"name\": \"Mathew\",\n",
    "          \"age\": 20,\n",
    "          \"grade\": \"A\",\n",
    "          \"subjects\": [\"Math\", \"Science\", \"English\"]\n",
    "}\n",
    "studentB={\"name\":\"Mohan\",\n",
    "          \"age\": 22,\n",
    "          \"grade\": \"C\",\n",
    "          \"subjects\": [\"History\", \"Geography\", \"English\"]\n",
    "}\n",
    "print(studentB[\"name\"], studentB[\"grade\"]\n",
    "      )"
   ]
  }
 ],
 "metadata": {
  "kernelspec": {
   "display_name": "Python 3",
   "language": "python",
   "name": "python3"
  },
  "language_info": {
   "codemirror_mode": {
    "name": "ipython",
    "version": 3
   },
   "file_extension": ".py",
   "mimetype": "text/x-python",
   "name": "python",
   "nbconvert_exporter": "python",
   "pygments_lexer": "ipython3",
   "version": "3.13.2"
  }
 },
 "nbformat": 4,
 "nbformat_minor": 5
}
